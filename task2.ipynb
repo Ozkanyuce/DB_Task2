{
 "cells": [
  {
   "cell_type": "code",
   "execution_count": 2,
   "id": "c519d0f0",
   "metadata": {
    "colab": {
     "base_uri": "https://localhost:8080/",
     "height": 424
    },
    "id": "c519d0f0",
    "outputId": "f5ff80e5-75bc-4ac8-f0d7-df0d26d63e14",
    "scrolled": false
   },
   "outputs": [
    {
     "data": {
      "text/html": [
       "<div>\n",
       "<style scoped>\n",
       "    .dataframe tbody tr th:only-of-type {\n",
       "        vertical-align: middle;\n",
       "    }\n",
       "\n",
       "    .dataframe tbody tr th {\n",
       "        vertical-align: top;\n",
       "    }\n",
       "\n",
       "    .dataframe thead th {\n",
       "        text-align: right;\n",
       "    }\n",
       "</style>\n",
       "<table border=\"1\" class=\"dataframe\">\n",
       "  <thead>\n",
       "    <tr style=\"text-align: right;\">\n",
       "      <th></th>\n",
       "      <th>index</th>\n",
       "      <th>EVA_NR</th>\n",
       "      <th>DS100</th>\n",
       "      <th>IFOPT</th>\n",
       "      <th>NAME</th>\n",
       "      <th>Verkehr</th>\n",
       "      <th>Laenge</th>\n",
       "      <th>Breite</th>\n",
       "      <th>Betreiber_Name</th>\n",
       "      <th>Betreiber_Nr</th>\n",
       "      <th>Status</th>\n",
       "    </tr>\n",
       "  </thead>\n",
       "  <tbody>\n",
       "    <tr>\n",
       "      <th>0</th>\n",
       "      <td>15</td>\n",
       "      <td>8011201</td>\n",
       "      <td>BFBI</td>\n",
       "      <td>de:12061:900260009</td>\n",
       "      <td>Flughafen BER - Terminal 1-2</td>\n",
       "      <td>FV</td>\n",
       "      <td>13,5119498</td>\n",
       "      <td>52,3648038</td>\n",
       "      <td>DB Station und Service AG</td>\n",
       "      <td>NaN</td>\n",
       "      <td>neu</td>\n",
       "    </tr>\n",
       "    <tr>\n",
       "      <th>1</th>\n",
       "      <td>24</td>\n",
       "      <td>8000001</td>\n",
       "      <td>KA</td>\n",
       "      <td>de:05334:1008</td>\n",
       "      <td>Aachen Hbf</td>\n",
       "      <td>FV</td>\n",
       "      <td>6,091499</td>\n",
       "      <td>50,7678</td>\n",
       "      <td>DB Station und Service AG</td>\n",
       "      <td>1.0</td>\n",
       "      <td>NaN</td>\n",
       "    </tr>\n",
       "    <tr>\n",
       "      <th>2</th>\n",
       "      <td>25</td>\n",
       "      <td>8000002</td>\n",
       "      <td>TA</td>\n",
       "      <td>de:08136:1000</td>\n",
       "      <td>Aalen Hbf</td>\n",
       "      <td>FV</td>\n",
       "      <td>10,096271</td>\n",
       "      <td>48,841013</td>\n",
       "      <td>DB Station und Service AG</td>\n",
       "      <td>4.0</td>\n",
       "      <td>NaN</td>\n",
       "    </tr>\n",
       "    <tr>\n",
       "      <th>3</th>\n",
       "      <td>26</td>\n",
       "      <td>8000004</td>\n",
       "      <td>HA</td>\n",
       "      <td>de:05774:7131</td>\n",
       "      <td>Altenbeken</td>\n",
       "      <td>FV</td>\n",
       "      <td>8,943319</td>\n",
       "      <td>51,766433</td>\n",
       "      <td>DB Station und Service AG</td>\n",
       "      <td>85.0</td>\n",
       "      <td>NaN</td>\n",
       "    </tr>\n",
       "    <tr>\n",
       "      <th>4</th>\n",
       "      <td>28</td>\n",
       "      <td>8000009</td>\n",
       "      <td>NAN</td>\n",
       "      <td>de:09561:11000</td>\n",
       "      <td>Ansbach</td>\n",
       "      <td>FV</td>\n",
       "      <td>10,578239</td>\n",
       "      <td>49,298032</td>\n",
       "      <td>DB Station und Service AG</td>\n",
       "      <td>161.0</td>\n",
       "      <td>NaN</td>\n",
       "    </tr>\n",
       "    <tr>\n",
       "      <th>...</th>\n",
       "      <td>...</td>\n",
       "      <td>...</td>\n",
       "      <td>...</td>\n",
       "      <td>...</td>\n",
       "      <td>...</td>\n",
       "      <td>...</td>\n",
       "      <td>...</td>\n",
       "      <td>...</td>\n",
       "      <td>...</td>\n",
       "      <td>...</td>\n",
       "      <td>...</td>\n",
       "    </tr>\n",
       "    <tr>\n",
       "      <th>352</th>\n",
       "      <td>5885</td>\n",
       "      <td>8070003</td>\n",
       "      <td>FFLF</td>\n",
       "      <td>de:06412:11511</td>\n",
       "      <td>Frankfurt(M) Flughafen Fernbf</td>\n",
       "      <td>FV</td>\n",
       "      <td>8,570185</td>\n",
       "      <td>50,053167</td>\n",
       "      <td>DB Station und Service AG</td>\n",
       "      <td>7982.0</td>\n",
       "      <td>NaN</td>\n",
       "    </tr>\n",
       "    <tr>\n",
       "      <th>353</th>\n",
       "      <td>5886</td>\n",
       "      <td>8070004</td>\n",
       "      <td>FFLU</td>\n",
       "      <td>de:06412:2930</td>\n",
       "      <td>Frankfurt(M) Flughafen Regionalbf</td>\n",
       "      <td>FV</td>\n",
       "      <td>8,571251</td>\n",
       "      <td>50,051219</td>\n",
       "      <td>DB Station und Service AG</td>\n",
       "      <td>1849.0</td>\n",
       "      <td>NaN</td>\n",
       "    </tr>\n",
       "    <tr>\n",
       "      <th>354</th>\n",
       "      <td>6009</td>\n",
       "      <td>8073368</td>\n",
       "      <td>KKDT</td>\n",
       "      <td>de:05315:11901</td>\n",
       "      <td>Köln Messe/Deutz Gl.11-12</td>\n",
       "      <td>FV</td>\n",
       "      <td>6,974067</td>\n",
       "      <td>50,941721</td>\n",
       "      <td>DB Station und Service AG</td>\n",
       "      <td>3329.0</td>\n",
       "      <td>NaN</td>\n",
       "    </tr>\n",
       "    <tr>\n",
       "      <th>355</th>\n",
       "      <td>6303</td>\n",
       "      <td>8098160</td>\n",
       "      <td>BL</td>\n",
       "      <td>de:11000:900003200</td>\n",
       "      <td>Berlin Hbf (tief)</td>\n",
       "      <td>FV</td>\n",
       "      <td>13,369545</td>\n",
       "      <td>52,525592</td>\n",
       "      <td>DB Station und Service AG</td>\n",
       "      <td>1071.0</td>\n",
       "      <td>NaN</td>\n",
       "    </tr>\n",
       "    <tr>\n",
       "      <th>356</th>\n",
       "      <td>6307</td>\n",
       "      <td>8098262</td>\n",
       "      <td>MH  S</td>\n",
       "      <td>de:09162:100</td>\n",
       "      <td>München Hbf Gl.5-10</td>\n",
       "      <td>FV</td>\n",
       "      <td>11,555371</td>\n",
       "      <td>48,140094</td>\n",
       "      <td>DB Station und Service AG</td>\n",
       "      <td>4234.0</td>\n",
       "      <td>NaN</td>\n",
       "    </tr>\n",
       "  </tbody>\n",
       "</table>\n",
       "<p>357 rows × 11 columns</p>\n",
       "</div>"
      ],
      "text/plain": [
       "     index   EVA_NR  DS100               IFOPT  \\\n",
       "0       15  8011201   BFBI  de:12061:900260009   \n",
       "1       24  8000001     KA       de:05334:1008   \n",
       "2       25  8000002     TA       de:08136:1000   \n",
       "3       26  8000004     HA       de:05774:7131   \n",
       "4       28  8000009    NAN      de:09561:11000   \n",
       "..     ...      ...    ...                 ...   \n",
       "352   5885  8070003   FFLF      de:06412:11511   \n",
       "353   5886  8070004   FFLU       de:06412:2930   \n",
       "354   6009  8073368   KKDT      de:05315:11901   \n",
       "355   6303  8098160     BL  de:11000:900003200   \n",
       "356   6307  8098262  MH  S        de:09162:100   \n",
       "\n",
       "                                  NAME Verkehr      Laenge      Breite  \\\n",
       "0         Flughafen BER - Terminal 1-2      FV  13,5119498  52,3648038   \n",
       "1                           Aachen Hbf      FV    6,091499     50,7678   \n",
       "2                            Aalen Hbf      FV   10,096271   48,841013   \n",
       "3                           Altenbeken      FV    8,943319   51,766433   \n",
       "4                              Ansbach      FV   10,578239   49,298032   \n",
       "..                                 ...     ...         ...         ...   \n",
       "352      Frankfurt(M) Flughafen Fernbf      FV    8,570185   50,053167   \n",
       "353  Frankfurt(M) Flughafen Regionalbf      FV    8,571251   50,051219   \n",
       "354          Köln Messe/Deutz Gl.11-12      FV    6,974067   50,941721   \n",
       "355                  Berlin Hbf (tief)      FV   13,369545   52,525592   \n",
       "356                München Hbf Gl.5-10      FV   11,555371   48,140094   \n",
       "\n",
       "                Betreiber_Name  Betreiber_Nr Status  \n",
       "0    DB Station und Service AG           NaN    neu  \n",
       "1    DB Station und Service AG           1.0    NaN  \n",
       "2    DB Station und Service AG           4.0    NaN  \n",
       "3    DB Station und Service AG          85.0    NaN  \n",
       "4    DB Station und Service AG         161.0    NaN  \n",
       "..                         ...           ...    ...  \n",
       "352  DB Station und Service AG        7982.0    NaN  \n",
       "353  DB Station und Service AG        1849.0    NaN  \n",
       "354  DB Station und Service AG        3329.0    NaN  \n",
       "355  DB Station und Service AG        1071.0    NaN  \n",
       "356  DB Station und Service AG        4234.0    NaN  \n",
       "\n",
       "[357 rows x 11 columns]"
      ]
     },
     "execution_count": 2,
     "metadata": {},
     "output_type": "execute_result"
    }
   ],
   "source": [
    "import pandas as pd\n",
    "df0 = pd.read_csv('D_Bahnhof_2020_alle.csv', sep=';')\n",
    "df = df0[df0['Verkehr'] == 'FV']\n",
    "df.reset_index(inplace=True)\n",
    "df"
   ]
  },
  {
   "cell_type": "code",
   "execution_count": 3,
   "id": "d09c7df5",
   "metadata": {
    "colab": {
     "base_uri": "https://localhost:8080/"
    },
    "id": "d09c7df5",
    "outputId": "33fb858a-f3bd-4f4e-bbb7-33a6fd0836f4"
   },
   "outputs": [
    {
     "name": "stderr",
     "output_type": "stream",
     "text": [
      "C:\\Users\\ozkan\\AppData\\Local\\Temp\\ipykernel_17688\\2494901362.py:1: SettingWithCopyWarning: \n",
      "A value is trying to be set on a copy of a slice from a DataFrame\n",
      "\n",
      "See the caveats in the documentation: https://pandas.pydata.org/pandas-docs/stable/user_guide/indexing.html#returning-a-view-versus-a-copy\n",
      "  df.Laenge.replace(to_replace=',', value='.', inplace=True, regex= True)\n"
     ]
    }
   ],
   "source": [
    "df.Laenge.replace(to_replace=',', value='.', inplace=True, regex= True)"
   ]
  },
  {
   "cell_type": "code",
   "execution_count": 4,
   "id": "337136b9",
   "metadata": {
    "colab": {
     "base_uri": "https://localhost:8080/"
    },
    "id": "337136b9",
    "outputId": "81e52d6e-0bcc-43a3-bd47-986d81037271"
   },
   "outputs": [
    {
     "name": "stderr",
     "output_type": "stream",
     "text": [
      "C:\\Users\\ozkan\\AppData\\Local\\Temp\\ipykernel_17688\\3317323935.py:1: SettingWithCopyWarning: \n",
      "A value is trying to be set on a copy of a slice from a DataFrame\n",
      "\n",
      "See the caveats in the documentation: https://pandas.pydata.org/pandas-docs/stable/user_guide/indexing.html#returning-a-view-versus-a-copy\n",
      "  df.Breite.replace(to_replace=',', value='.', inplace=True, regex= True)\n"
     ]
    }
   ],
   "source": [
    "df.Breite.replace(to_replace=',', value='.', inplace=True, regex= True)"
   ]
  },
  {
   "cell_type": "code",
   "execution_count": 5,
   "id": "c4b26bea",
   "metadata": {
    "colab": {
     "base_uri": "https://localhost:8080/"
    },
    "id": "c4b26bea",
    "outputId": "f077a07e-12b6-4a1f-afb4-bbc99835a9eb",
    "scrolled": true
   },
   "outputs": [
    {
     "name": "stderr",
     "output_type": "stream",
     "text": [
      "C:\\Users\\ozkan\\AppData\\Local\\Temp\\ipykernel_17688\\1373145181.py:1: SettingWithCopyWarning: \n",
      "A value is trying to be set on a copy of a slice from a DataFrame.\n",
      "Try using .loc[row_indexer,col_indexer] = value instead\n",
      "\n",
      "See the caveats in the documentation: https://pandas.pydata.org/pandas-docs/stable/user_guide/indexing.html#returning-a-view-versus-a-copy\n",
      "  df.Laenge = df.Laenge.astype(float)\n"
     ]
    }
   ],
   "source": [
    "df.Laenge = df.Laenge.astype(float)"
   ]
  },
  {
   "cell_type": "code",
   "execution_count": 6,
   "id": "e85ccbde",
   "metadata": {
    "colab": {
     "base_uri": "https://localhost:8080/"
    },
    "id": "e85ccbde",
    "outputId": "48ae52a6-3a7b-4676-bcbb-5bd6a6e9d976",
    "scrolled": true
   },
   "outputs": [
    {
     "name": "stderr",
     "output_type": "stream",
     "text": [
      "C:\\Users\\ozkan\\AppData\\Local\\Temp\\ipykernel_17688\\1686138708.py:1: SettingWithCopyWarning: \n",
      "A value is trying to be set on a copy of a slice from a DataFrame.\n",
      "Try using .loc[row_indexer,col_indexer] = value instead\n",
      "\n",
      "See the caveats in the documentation: https://pandas.pydata.org/pandas-docs/stable/user_guide/indexing.html#returning-a-view-versus-a-copy\n",
      "  df.Breite = df.Breite.astype(float)\n"
     ]
    }
   ],
   "source": [
    "df.Breite = df.Breite.astype(float)"
   ]
  },
  {
   "cell_type": "code",
   "execution_count": 7,
   "id": "9b55da1e",
   "metadata": {
    "colab": {
     "base_uri": "https://localhost:8080/"
    },
    "id": "9b55da1e",
    "outputId": "befc0f76-df0b-43dd-ec6e-2c8fc8a61ba4",
    "scrolled": true
   },
   "outputs": [
    {
     "name": "stdout",
     "output_type": "stream",
     "text": [
      "<class 'pandas.core.frame.DataFrame'>\n",
      "RangeIndex: 357 entries, 0 to 356\n",
      "Data columns (total 11 columns):\n",
      " #   Column          Non-Null Count  Dtype  \n",
      "---  ------          --------------  -----  \n",
      " 0   index           357 non-null    int64  \n",
      " 1   EVA_NR          357 non-null    int64  \n",
      " 2   DS100           357 non-null    object \n",
      " 3   IFOPT           357 non-null    object \n",
      " 4   NAME            357 non-null    object \n",
      " 5   Verkehr         357 non-null    object \n",
      " 6   Laenge          357 non-null    float64\n",
      " 7   Breite          357 non-null    float64\n",
      " 8   Betreiber_Name  357 non-null    object \n",
      " 9   Betreiber_Nr    352 non-null    float64\n",
      " 10  Status          1 non-null      object \n",
      "dtypes: float64(3), int64(2), object(6)\n",
      "memory usage: 30.8+ KB\n"
     ]
    }
   ],
   "source": [
    "df.info()"
   ]
  },
  {
   "cell_type": "code",
   "execution_count": 8,
   "id": "13c22ba6",
   "metadata": {
    "colab": {
     "base_uri": "https://localhost:8080/"
    },
    "id": "13c22ba6",
    "outputId": "5bf86864-e37d-4aee-ff04-0f49ef178c5e"
   },
   "outputs": [],
   "source": [
    "von = input('Geben sie bitte Abfahrt Bahnhof ein: ')"
   ]
  },
  {
   "cell_type": "code",
   "execution_count": 9,
   "id": "fb302ae0",
   "metadata": {
    "colab": {
     "base_uri": "https://localhost:8080/"
    },
    "id": "fb302ae0",
    "outputId": "686e531b-5e3c-40dd-e7b3-295156548c7c"
   },
   "outputs": [],
   "source": [
    "nach = input('Geben sie bitte Ankunft  Bahnhof ein: ')"
   ]
  },
  {
   "cell_type": "code",
   "execution_count": 10,
   "id": "d05879b4",
   "metadata": {
    "colab": {
     "base_uri": "https://localhost:8080/"
    },
    "id": "d05879b4",
    "outputId": "e182747e-6e76-4f8a-e144-7eab9e01b8fe"
   },
   "outputs": [
    {
     "name": "stdout",
     "output_type": "stream",
     "text": [
      "(8.663789, 50.107145) (13.369545, 52.525592)\n"
     ]
    }
   ],
   "source": [
    "lat1 = df['Laenge'].loc[df.index[df['NAME'] == von][0]]\n",
    "lat2 = df['Laenge'].loc[df.index[df['NAME'] == nach][0]]\n",
    "lon1 = df['Breite'].loc[df.index[df['NAME'] == von][0]]\n",
    "lon2 = df['Breite'].loc[df.index[df['NAME'] == nach][0]]\n",
    "print((lat1, lon1), (lat2, lon2))"
   ]
  },
  {
   "cell_type": "code",
   "execution_count": 11,
   "id": "7fba49ae",
   "metadata": {
    "colab": {
     "base_uri": "https://localhost:8080/"
    },
    "id": "7fba49ae",
    "outputId": "57d19e28-76d5-4d7a-b5e5-ba088b72d4c3"
   },
   "outputs": [
    {
     "name": "stdout",
     "output_type": "stream",
     "text": [
      "{\n",
      "  \"from\": \"Frankfurt(Main)Hbf\",\n",
      "  \"to\": \"Berlin Hbf\",\n",
      "  \"distance\": 586,\n",
      "  \"unit\": \"km\"\n",
      "}\n"
     ]
    }
   ],
   "source": [
    "from math import radians, cos, sin, asin, sqrt\n",
    "import json\n",
    "\n",
    "def haversine(lon1, lat1, lon2, lat2):\n",
    "    \"\"\"\n",
    "    Calculate the great circle distance in kilometers between two points \n",
    "    on the earth (specified in decimal degrees)\n",
    "    \"\"\"\n",
    "    # convert decimal degrees to radians \n",
    "    lon1, lat1, lon2, lat2 = map(radians, [lon1, lat1, lon2, lat2])\n",
    "\n",
    "    # haversine formula \n",
    "    dlon = lon2 - lon1 \n",
    "    dlat = lat2 - lat1 \n",
    "    a = sin(dlat/2)**2 + cos(lat1) * cos(lat2) * sin(dlon/2)**2\n",
    "    c = 2 * asin(sqrt(a)) \n",
    "    r = 6371 # Radius of earth in kilometers. Use 3956 for miles. Determines return value units.\n",
    "    return c * r\n",
    "distance = round(haversine(lon1, lat1, lon2, lat2))\n",
    "\n",
    "in_json = {\n",
    "              'from' : von,\n",
    "              'to' : nach,\n",
    "              'distance' : distance,\n",
    "              'unit' : 'km'\n",
    "\n",
    "          }\n",
    "\n",
    "\"\"\"txt = \"The Distance between {} and {} is {} km\".format(von,nach,distance)\n",
    "print(txt.format(von,nach,distance))\"\"\"\n",
    "\n",
    "print(json.dumps(in_json, indent=2))"
   ]
  }
 ],
 "metadata": {
  "colab": {
   "provenance": []
  },
  "kernelspec": {
   "display_name": "Python 3",
   "language": "python",
   "name": "python3"
  },
  "language_info": {
   "codemirror_mode": {
    "name": "ipython",
    "version": 3
   },
   "file_extension": ".py",
   "mimetype": "text/x-python",
   "name": "python",
   "nbconvert_exporter": "python",
   "pygments_lexer": "ipython3",
   "version": "3.10.4"
  }
 },
 "nbformat": 4,
 "nbformat_minor": 5
}
